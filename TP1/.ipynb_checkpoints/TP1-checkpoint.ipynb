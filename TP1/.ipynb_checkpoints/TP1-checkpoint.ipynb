{
 "cells": [
  {
   "cell_type": "code",
   "execution_count": 1,
   "metadata": {},
   "outputs": [],
   "source": [
    "import pandas as pd\n",
    "import numpy as np\n",
    "import seaborn as sns\n",
    "import matplotlib.pyplot as plt\n",
    "%matplotlib inline"
   ]
  },
  {
   "cell_type": "code",
   "execution_count": 2,
   "metadata": {},
   "outputs": [],
   "source": [
    " train_labels = pd.read_csv(\"train_labels.csv\", encoding='latin-1')"
   ]
  },
  {
   "cell_type": "code",
   "execution_count": 4,
   "metadata": {},
   "outputs": [],
   "source": [
    " train_values = pd.read_csv(\"train_values.csv\", encoding='latin-1')"
   ]
  },
  {
   "cell_type": "code",
   "execution_count": 6,
   "metadata": {},
   "outputs": [
    {
     "name": "stdout",
     "output_type": "stream",
     "text": [
      "<class 'pandas.core.frame.DataFrame'>\n",
      "RangeIndex: 260601 entries, 0 to 260600\n",
      "Data columns (total 39 columns):\n",
      " #   Column                                  Non-Null Count   Dtype \n",
      "---  ------                                  --------------   ----- \n",
      " 0   building_id                             260601 non-null  int64 \n",
      " 1   geo_level_1_id                          260601 non-null  int64 \n",
      " 2   geo_level_2_id                          260601 non-null  int64 \n",
      " 3   geo_level_3_id                          260601 non-null  int64 \n",
      " 4   count_floors_pre_eq                     260601 non-null  int64 \n",
      " 5   age                                     260601 non-null  int64 \n",
      " 6   area_percentage                         260601 non-null  int64 \n",
      " 7   height_percentage                       260601 non-null  int64 \n",
      " 8   land_surface_condition                  260601 non-null  object\n",
      " 9   foundation_type                         260601 non-null  object\n",
      " 10  roof_type                               260601 non-null  object\n",
      " 11  ground_floor_type                       260601 non-null  object\n",
      " 12  other_floor_type                        260601 non-null  object\n",
      " 13  position                                260601 non-null  object\n",
      " 14  plan_configuration                      260601 non-null  object\n",
      " 15  has_superstructure_adobe_mud            260601 non-null  int64 \n",
      " 16  has_superstructure_mud_mortar_stone     260601 non-null  int64 \n",
      " 17  has_superstructure_stone_flag           260601 non-null  int64 \n",
      " 18  has_superstructure_cement_mortar_stone  260601 non-null  int64 \n",
      " 19  has_superstructure_mud_mortar_brick     260601 non-null  int64 \n",
      " 20  has_superstructure_cement_mortar_brick  260601 non-null  int64 \n",
      " 21  has_superstructure_timber               260601 non-null  int64 \n",
      " 22  has_superstructure_bamboo               260601 non-null  int64 \n",
      " 23  has_superstructure_rc_non_engineered    260601 non-null  int64 \n",
      " 24  has_superstructure_rc_engineered        260601 non-null  int64 \n",
      " 25  has_superstructure_other                260601 non-null  int64 \n",
      " 26  legal_ownership_status                  260601 non-null  object\n",
      " 27  count_families                          260601 non-null  int64 \n",
      " 28  has_secondary_use                       260601 non-null  int64 \n",
      " 29  has_secondary_use_agriculture           260601 non-null  int64 \n",
      " 30  has_secondary_use_hotel                 260601 non-null  int64 \n",
      " 31  has_secondary_use_rental                260601 non-null  int64 \n",
      " 32  has_secondary_use_institution           260601 non-null  int64 \n",
      " 33  has_secondary_use_school                260601 non-null  int64 \n",
      " 34  has_secondary_use_industry              260601 non-null  int64 \n",
      " 35  has_secondary_use_health_post           260601 non-null  int64 \n",
      " 36  has_secondary_use_gov_office            260601 non-null  int64 \n",
      " 37  has_secondary_use_use_police            260601 non-null  int64 \n",
      " 38  has_secondary_use_other                 260601 non-null  int64 \n",
      "dtypes: int64(31), object(8)\n",
      "memory usage: 77.5+ MB\n"
     ]
    }
   ],
   "source": [
    "train_values.info()"
   ]
  },
  {
   "cell_type": "code",
   "execution_count": null,
   "metadata": {},
   "outputs": [],
   "source": []
  }
 ],
 "metadata": {
  "kernelspec": {
   "display_name": "Python 3",
   "language": "python",
   "name": "python3"
  },
  "language_info": {
   "codemirror_mode": {
    "name": "ipython",
    "version": 3
   },
   "file_extension": ".py",
   "mimetype": "text/x-python",
   "name": "python",
   "nbconvert_exporter": "python",
   "pygments_lexer": "ipython3",
   "version": "3.8.5"
  }
 },
 "nbformat": 4,
 "nbformat_minor": 4
}
